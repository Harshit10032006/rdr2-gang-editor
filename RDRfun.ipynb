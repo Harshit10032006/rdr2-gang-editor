{
 "cells": [
  {
   "cell_type": "code",
   "execution_count": 32,
   "id": "d8575765-c382-4045-914c-ea2cd44307ac",
   "metadata": {},
   "outputs": [],
   "source": [
    "import pandas as pd \n",
    "import numpy as np\n"
   ]
  },
  {
   "cell_type": "code",
   "execution_count": 149,
   "id": "f4d2d659-2bb1-4e27-aa62-4bc832abb7a8",
   "metadata": {},
   "outputs": [],
   "source": [
    "\n",
    "#Names of the Gang Members :-\n",
    "\n",
    "names = [\n",
    "    'Dutch','Arthur','Hosea','Micah','John','Bill','Javier','Charles','Lenny','Sean',\n",
    "    'Sadie','Uncle','Tilly','Mary-Beth','Karen','Molly','Pearson','Susan','Jack','Kieran'\n",
    "]\n",
    "# Roles :-\n",
    "roles = [\n",
    "    'Leader','Right-Hand Man','Strategist','Enforcer','Outlaw','Gunman','Gunman','Tracker',\n",
    "    'Gunman','Gunman','Shooter','Camper ','Cook Helper','Woman','Women','Women',\n",
    "    'Quartermaster','Camp Manager','Child','Scout'\n",
    "]\n",
    "\n",
    "#Ages of each member:-\n",
    "ages = [\n",
    "    44, 36, 55, 39, 27, 40, 35, 32, 19, 28,\n",
    "    28, 60, 25, 22, 23, 30, 45, 50, 12, 21\n",
    "]\n",
    "\n",
    "#Bounty on their head:-\n",
    "Bounties = [\n",
    "    280, 798, 323, 345, 150, 200, 180, 220, 289, 210,\n",
    "    120, 50, 90, 80, 75, 100, 190, 250, 10, 70\n",
    "]\n",
    "\n",
    "# Threat based on their Bounties\n",
    "Threat_levels = [\n",
    "    'Extreme','Very Low','Medium','Low','Medium','High','Medium','High','Very Low','Low',\n",
    "    'Medium','Very Low','Low','Low','Low','Medium','High','Extreme','Very Low','Medium'\n",
    "]\n",
    "# Alive or Dead\n",
    "Status = [\n",
    "    'Alive','Alive','Dead','Alive','Alive','Alive','Alive','Alive','Dead','Alive',\n",
    "    'Alive','Dead','Alive','Alive','Alive','Alive','Alive','Alive','Alive','Alive'\n",
    "]\n",
    "\n",
    "# Last Seen Location\n",
    "Locations = [\n",
    "    'Saint Denis','BlackWater','Saint Denis','Saint Denis','Valentine','Valentine','Rhodes','Rhodes','Saint Denis','Saint Denis',\n",
    "    'Annesburg','Saint Denis','Valentine','Rhodes','Rhodes','Valentine','Saint Denis','Saint Denis','Saint Denis','Annesburg'\n",
    "]\n",
    "\n",
    "\n",
    "RDR = pd.DataFrame({\n",
    "    'Name': names,\n",
    "    'Age': ages,\n",
    "    'Role': roles,\n",
    "    'Bounty$$': Bounties,\n",
    "    'Threat Level': Threat_levels,\n",
    "    'Status': Status,\n",
    "    'Last Seen': locations\n",
    "})\n",
    "\n"
   ]
  },
  {
   "cell_type": "code",
   "execution_count": 144,
   "id": "027d044c-0abd-4204-a20c-d88647334a1a",
   "metadata": {},
   "outputs": [],
   "source": [
    "def reduce_bounty(Name, amount):\n",
    "    if Name in RDR['Name'].values :\n",
    "        \n",
    "        curr = RDR.loc[RDR['Name']==Name,\"Bounty$$\"].values[0]\n",
    "        if curr < amount:\n",
    "            RDR.loc[RDR['Name']==Name,\"Bounty$$\"]=curr-amount\n",
    "            print(f\"New Bounty is of {Name} is  :->{curr-amount} \")\n",
    "        else :\n",
    "             RDR.loc[RDR['Name']==Name,\"Bounty$$\"]=0\n",
    "             print(\"Now Bounty is 0 Thanku!!\" )\n",
    "    else :\n",
    "        print(f\"No Gang Members Named ->{Name} in This Gang maybe in  another Gang\")\n",
    "\n",
    "\n",
    "\n",
    "            "
   ]
  },
  {
   "cell_type": "code",
   "execution_count": 145,
   "id": "ee91a45f-c06a-46cf-8bd1-63ac65c3849d",
   "metadata": {},
   "outputs": [],
   "source": [
    "def update_bounty(Name,new_amt):\n",
    "    if Name in RDR['Name'].values:\n",
    "        temp= RDR.loc[RDR['Name']==Name,\"Bounty$$\"].values[0]\n",
    "        RDR.loc[RDR['Name']==Name,\"Bounty$$\"]=new_amt\n",
    "        if temp  > new_amt:\n",
    "            print(\" WARNING !! bounty Updated but its Less Than Before\")\n",
    "        else :\n",
    "            print(\"Bounty Successfully Increased\")\n",
    "    else :\n",
    "        print(f\"No One Name ->{Name} is this Gang\")\n",
    "\n"
   ]
  },
  {
   "cell_type": "code",
   "execution_count": 146,
   "id": "59ead934-707b-43cb-8224-95f983db9573",
   "metadata": {},
   "outputs": [],
   "source": [
    "def change_reqirement(value) :\n",
    "    RDR[\"Required\"]=np.where(RDR[\"Bounty$$\"] > value,\"Dead or Alive\", \"Alive\")\n",
    "\n",
    "change_reqirement (150)\n",
    "\n"
   ]
  },
  {
   "cell_type": "code",
   "execution_count": 147,
   "id": "2099be1b-0382-45f5-a522-82b66c3bad15",
   "metadata": {},
   "outputs": [
    {
     "name": "stdin",
     "output_type": "stream",
     "text": [
      "Type the Choice \n",
      " 1 ) FOR Reduce Bounty \n",
      " 2 ) For Update Bounty \n",
      " 3 ) Change requirement for Dead / Dead or Alive \n",
      "4) For Exit  \n",
      " 5) For Display changes  4\n"
     ]
    }
   ],
   "source": [
    "# Menu :::::::::::\n",
    "while True:\n",
    "    choose = input(\"Type the Choice \\n 1 ) FOR Reduce Bounty \\n 2 ) For Update Bounty \\n 3 ) Change requirement for Dead / Dead or Alive \\n4) For Exit  \\n 5) For Display changes \" )\n",
    "\n",
    "    \n",
    "    if choose == \"1\" :\n",
    "           \n",
    "           n=input(\"Type Name of the Member : \")\n",
    "           v= int(input(\"Type the amount : \"))\n",
    "           reduce_bounty(n,v)\n",
    "    elif  choose == \"2\":\n",
    "           \n",
    "           n=input(\"Type Name of the Member : \")\n",
    "           v= int(input(\"Type the new amount : \"))\n",
    "           update_bounty(n,v)\n",
    "    elif choose == \"3\" :\n",
    "           \n",
    "            v= int(input(\"Type the  max amount  for Dead or Alive : \"))\n",
    "            change_reqirement(v)\n",
    "            \n",
    "    elif choose == \"4\" :\n",
    "            break\n",
    "\n",
    "    elif choose == \"5\" :\n",
    "        print(RDR)\n",
    "                   \n",
    "    else :\n",
    "        print(\"No option Found Try again\")\n",
    "        \n",
    "                  \n",
    "                  \n",
    "               \n",
    "               \n",
    "    \n",
    "            \n",
    "\n",
    "\n",
    "                    "
   ]
  },
  {
   "cell_type": "code",
   "execution_count": null,
   "id": "c398d2ca-036e-45ea-b8a1-2bdf66e6094c",
   "metadata": {},
   "outputs": [],
   "source": []
  }
 ],
 "metadata": {
  "kernelspec": {
   "display_name": "Python 3 (ipykernel)",
   "language": "python",
   "name": "python3"
  },
  "language_info": {
   "codemirror_mode": {
    "name": "ipython",
    "version": 3
   },
   "file_extension": ".py",
   "mimetype": "text/x-python",
   "name": "python",
   "nbconvert_exporter": "python",
   "pygments_lexer": "ipython3",
   "version": "3.12.5"
  }
 },
 "nbformat": 4,
 "nbformat_minor": 5
}
